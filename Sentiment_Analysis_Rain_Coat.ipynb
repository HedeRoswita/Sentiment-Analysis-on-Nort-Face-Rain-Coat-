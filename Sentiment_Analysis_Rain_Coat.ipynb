{
  "nbformat": 4,
  "nbformat_minor": 0,
  "metadata": {
    "colab": {
      "provenance": []
    },
    "kernelspec": {
      "name": "python3",
      "display_name": "Python 3"
    },
    "language_info": {
      "name": "python"
    }
  },
  "cells": [
    {
      "cell_type": "code",
      "execution_count": 4,
      "metadata": {
        "colab": {
          "base_uri": "https://localhost:8080/"
        },
        "id": "C-fmOlsp7Trf",
        "outputId": "7e7d3fdf-36be-4a11-be5e-286e07edb76f"
      },
      "outputs": [
        {
          "output_type": "stream",
          "name": "stderr",
          "text": [
            "[nltk_data] Downloading package stopwords to /root/nltk_data...\n",
            "[nltk_data]   Unzipping corpora/stopwords.zip.\n",
            "[nltk_data] Downloading package wordnet to /root/nltk_data...\n",
            "[nltk_data] Downloading package punkt to /root/nltk_data...\n",
            "[nltk_data]   Unzipping tokenizers/punkt.zip.\n",
            "[nltk_data] Downloading package averaged_perceptron_tagger to\n",
            "[nltk_data]     /root/nltk_data...\n",
            "[nltk_data]   Unzipping taggers/averaged_perceptron_tagger.zip.\n",
            "[nltk_data] Downloading package sentiwordnet to /root/nltk_data...\n",
            "[nltk_data]   Unzipping corpora/sentiwordnet.zip.\n"
          ]
        },
        {
          "output_type": "execute_result",
          "data": {
            "text/plain": [
              "True"
            ]
          },
          "metadata": {},
          "execution_count": 4
        }
      ],
      "source": [
        "#Import Library\n",
        "import os, sys\n",
        "import numpy as np\n",
        "import pandas as pd\n",
        "import matplotlib.pyplot as plt\n",
        "from datetime import datetime\n",
        "import seaborn as sns\n",
        "from collections import Counter\n",
        "\n",
        "import keras\n",
        "from keras.preprocessing import sequence\n",
        "from keras.models import Sequential\n",
        "from keras import layers\n",
        "from keras.optimizers import Adam\n",
        "from sklearn.utils import shuffle\n",
        "from sklearn.model_selection import train_test_split\n",
        "from tqdm import tqdm_notebook as tqdm\n",
        "from keras.utils import pad_sequences\n",
        "from keras import mixed_precision\n",
        "import warnings\n",
        "warnings.filterwarnings('ignore')\n",
        "\n",
        "%matplotlib inline\n",
        "\n",
        "import nltk\n",
        "nltk.download('stopwords')\n",
        "nltk.download('wordnet')\n",
        "nltk.download('punkt')\n",
        "nltk.download('averaged_perceptron_tagger')\n",
        "from nltk.corpus import stopwords\n",
        "from nltk.tokenize import word_tokenize\n",
        "from wordcloud import WordCloud\n",
        "from nltk import FreqDist\n",
        "from keras.preprocessing.text import Tokenizer\n",
        "from keras.layers import LSTM, Dense, Embedding, Bidirectional\n",
        "stop = stopwords.words('english')\n",
        "nltk.download('sentiwordnet')"
      ]
    },
    {
      "cell_type": "code",
      "source": [
        "from google.colab import files\n",
        "files= files.upload()"
      ],
      "metadata": {
        "id": "x-bJHKHS7nSS",
        "colab": {
          "base_uri": "https://localhost:8080/",
          "height": 74
        },
        "outputId": "5bce8c48-4163-4d69-eab1-73b017fe229c"
      },
      "execution_count": 1,
      "outputs": [
        {
          "output_type": "display_data",
          "data": {
            "text/plain": [
              "<IPython.core.display.HTML object>"
            ],
            "text/html": [
              "\n",
              "     <input type=\"file\" id=\"files-a2a4009e-ddaa-408d-922f-647d50148900\" name=\"files[]\" multiple disabled\n",
              "        style=\"border:none\" />\n",
              "     <output id=\"result-a2a4009e-ddaa-408d-922f-647d50148900\">\n",
              "      Upload widget is only available when the cell has been executed in the\n",
              "      current browser session. Please rerun this cell to enable.\n",
              "      </output>\n",
              "      <script>// Copyright 2017 Google LLC\n",
              "//\n",
              "// Licensed under the Apache License, Version 2.0 (the \"License\");\n",
              "// you may not use this file except in compliance with the License.\n",
              "// You may obtain a copy of the License at\n",
              "//\n",
              "//      http://www.apache.org/licenses/LICENSE-2.0\n",
              "//\n",
              "// Unless required by applicable law or agreed to in writing, software\n",
              "// distributed under the License is distributed on an \"AS IS\" BASIS,\n",
              "// WITHOUT WARRANTIES OR CONDITIONS OF ANY KIND, either express or implied.\n",
              "// See the License for the specific language governing permissions and\n",
              "// limitations under the License.\n",
              "\n",
              "/**\n",
              " * @fileoverview Helpers for google.colab Python module.\n",
              " */\n",
              "(function(scope) {\n",
              "function span(text, styleAttributes = {}) {\n",
              "  const element = document.createElement('span');\n",
              "  element.textContent = text;\n",
              "  for (const key of Object.keys(styleAttributes)) {\n",
              "    element.style[key] = styleAttributes[key];\n",
              "  }\n",
              "  return element;\n",
              "}\n",
              "\n",
              "// Max number of bytes which will be uploaded at a time.\n",
              "const MAX_PAYLOAD_SIZE = 100 * 1024;\n",
              "\n",
              "function _uploadFiles(inputId, outputId) {\n",
              "  const steps = uploadFilesStep(inputId, outputId);\n",
              "  const outputElement = document.getElementById(outputId);\n",
              "  // Cache steps on the outputElement to make it available for the next call\n",
              "  // to uploadFilesContinue from Python.\n",
              "  outputElement.steps = steps;\n",
              "\n",
              "  return _uploadFilesContinue(outputId);\n",
              "}\n",
              "\n",
              "// This is roughly an async generator (not supported in the browser yet),\n",
              "// where there are multiple asynchronous steps and the Python side is going\n",
              "// to poll for completion of each step.\n",
              "// This uses a Promise to block the python side on completion of each step,\n",
              "// then passes the result of the previous step as the input to the next step.\n",
              "function _uploadFilesContinue(outputId) {\n",
              "  const outputElement = document.getElementById(outputId);\n",
              "  const steps = outputElement.steps;\n",
              "\n",
              "  const next = steps.next(outputElement.lastPromiseValue);\n",
              "  return Promise.resolve(next.value.promise).then((value) => {\n",
              "    // Cache the last promise value to make it available to the next\n",
              "    // step of the generator.\n",
              "    outputElement.lastPromiseValue = value;\n",
              "    return next.value.response;\n",
              "  });\n",
              "}\n",
              "\n",
              "/**\n",
              " * Generator function which is called between each async step of the upload\n",
              " * process.\n",
              " * @param {string} inputId Element ID of the input file picker element.\n",
              " * @param {string} outputId Element ID of the output display.\n",
              " * @return {!Iterable<!Object>} Iterable of next steps.\n",
              " */\n",
              "function* uploadFilesStep(inputId, outputId) {\n",
              "  const inputElement = document.getElementById(inputId);\n",
              "  inputElement.disabled = false;\n",
              "\n",
              "  const outputElement = document.getElementById(outputId);\n",
              "  outputElement.innerHTML = '';\n",
              "\n",
              "  const pickedPromise = new Promise((resolve) => {\n",
              "    inputElement.addEventListener('change', (e) => {\n",
              "      resolve(e.target.files);\n",
              "    });\n",
              "  });\n",
              "\n",
              "  const cancel = document.createElement('button');\n",
              "  inputElement.parentElement.appendChild(cancel);\n",
              "  cancel.textContent = 'Cancel upload';\n",
              "  const cancelPromise = new Promise((resolve) => {\n",
              "    cancel.onclick = () => {\n",
              "      resolve(null);\n",
              "    };\n",
              "  });\n",
              "\n",
              "  // Wait for the user to pick the files.\n",
              "  const files = yield {\n",
              "    promise: Promise.race([pickedPromise, cancelPromise]),\n",
              "    response: {\n",
              "      action: 'starting',\n",
              "    }\n",
              "  };\n",
              "\n",
              "  cancel.remove();\n",
              "\n",
              "  // Disable the input element since further picks are not allowed.\n",
              "  inputElement.disabled = true;\n",
              "\n",
              "  if (!files) {\n",
              "    return {\n",
              "      response: {\n",
              "        action: 'complete',\n",
              "      }\n",
              "    };\n",
              "  }\n",
              "\n",
              "  for (const file of files) {\n",
              "    const li = document.createElement('li');\n",
              "    li.append(span(file.name, {fontWeight: 'bold'}));\n",
              "    li.append(span(\n",
              "        `(${file.type || 'n/a'}) - ${file.size} bytes, ` +\n",
              "        `last modified: ${\n",
              "            file.lastModifiedDate ? file.lastModifiedDate.toLocaleDateString() :\n",
              "                                    'n/a'} - `));\n",
              "    const percent = span('0% done');\n",
              "    li.appendChild(percent);\n",
              "\n",
              "    outputElement.appendChild(li);\n",
              "\n",
              "    const fileDataPromise = new Promise((resolve) => {\n",
              "      const reader = new FileReader();\n",
              "      reader.onload = (e) => {\n",
              "        resolve(e.target.result);\n",
              "      };\n",
              "      reader.readAsArrayBuffer(file);\n",
              "    });\n",
              "    // Wait for the data to be ready.\n",
              "    let fileData = yield {\n",
              "      promise: fileDataPromise,\n",
              "      response: {\n",
              "        action: 'continue',\n",
              "      }\n",
              "    };\n",
              "\n",
              "    // Use a chunked sending to avoid message size limits. See b/62115660.\n",
              "    let position = 0;\n",
              "    do {\n",
              "      const length = Math.min(fileData.byteLength - position, MAX_PAYLOAD_SIZE);\n",
              "      const chunk = new Uint8Array(fileData, position, length);\n",
              "      position += length;\n",
              "\n",
              "      const base64 = btoa(String.fromCharCode.apply(null, chunk));\n",
              "      yield {\n",
              "        response: {\n",
              "          action: 'append',\n",
              "          file: file.name,\n",
              "          data: base64,\n",
              "        },\n",
              "      };\n",
              "\n",
              "      let percentDone = fileData.byteLength === 0 ?\n",
              "          100 :\n",
              "          Math.round((position / fileData.byteLength) * 100);\n",
              "      percent.textContent = `${percentDone}% done`;\n",
              "\n",
              "    } while (position < fileData.byteLength);\n",
              "  }\n",
              "\n",
              "  // All done.\n",
              "  yield {\n",
              "    response: {\n",
              "      action: 'complete',\n",
              "    }\n",
              "  };\n",
              "}\n",
              "\n",
              "scope.google = scope.google || {};\n",
              "scope.google.colab = scope.google.colab || {};\n",
              "scope.google.colab._files = {\n",
              "  _uploadFiles,\n",
              "  _uploadFilesContinue,\n",
              "};\n",
              "})(self);\n",
              "</script> "
            ]
          },
          "metadata": {}
        },
        {
          "output_type": "stream",
          "name": "stdout",
          "text": [
            "Saving review_clean.csv to review_clean.csv\n"
          ]
        }
      ]
    },
    {
      "cell_type": "code",
      "source": [
        "df=pd.read_csv('review_clean.csv')\n",
        "df.head()"
      ],
      "metadata": {
        "colab": {
          "base_uri": "https://localhost:8080/",
          "height": 206
        },
        "id": "8APlEb2k76CP",
        "outputId": "39e9eced-893e-41fc-bc1b-884169788ef1"
      },
      "execution_count": 5,
      "outputs": [
        {
          "output_type": "execute_result",
          "data": {
            "text/plain": [
              "   stopwords  punctuation  hastags  is_english  \\\n",
              "0          5            3        0        True   \n",
              "1          2            1        0        True   \n",
              "2          6            4        0        True   \n",
              "3         11            2        0        True   \n",
              "4          3            9        0        True   \n",
              "\n",
              "                                              review  \n",
              "0  ['wife', 'needed', 'rain', 'jacket', 'last', '...  \n",
              "1                          ['true', 'size', 'small']  \n",
              "2  ['nice', 'coat', 'sleeves', 'seems', 'long', '...  \n",
              "3  ['bought', 'alaska', 'cruise', 'worked', 'work...  \n",
              "4  ['definitely', 'first', 'rain', 'stayed', 'sec...  "
            ],
            "text/html": [
              "\n",
              "  <div id=\"df-1b493e90-972a-402b-a70d-4e0bcc864aef\" class=\"colab-df-container\">\n",
              "    <div>\n",
              "<style scoped>\n",
              "    .dataframe tbody tr th:only-of-type {\n",
              "        vertical-align: middle;\n",
              "    }\n",
              "\n",
              "    .dataframe tbody tr th {\n",
              "        vertical-align: top;\n",
              "    }\n",
              "\n",
              "    .dataframe thead th {\n",
              "        text-align: right;\n",
              "    }\n",
              "</style>\n",
              "<table border=\"1\" class=\"dataframe\">\n",
              "  <thead>\n",
              "    <tr style=\"text-align: right;\">\n",
              "      <th></th>\n",
              "      <th>stopwords</th>\n",
              "      <th>punctuation</th>\n",
              "      <th>hastags</th>\n",
              "      <th>is_english</th>\n",
              "      <th>review</th>\n",
              "    </tr>\n",
              "  </thead>\n",
              "  <tbody>\n",
              "    <tr>\n",
              "      <th>0</th>\n",
              "      <td>5</td>\n",
              "      <td>3</td>\n",
              "      <td>0</td>\n",
              "      <td>True</td>\n",
              "      <td>['wife', 'needed', 'rain', 'jacket', 'last', '...</td>\n",
              "    </tr>\n",
              "    <tr>\n",
              "      <th>1</th>\n",
              "      <td>2</td>\n",
              "      <td>1</td>\n",
              "      <td>0</td>\n",
              "      <td>True</td>\n",
              "      <td>['true', 'size', 'small']</td>\n",
              "    </tr>\n",
              "    <tr>\n",
              "      <th>2</th>\n",
              "      <td>6</td>\n",
              "      <td>4</td>\n",
              "      <td>0</td>\n",
              "      <td>True</td>\n",
              "      <td>['nice', 'coat', 'sleeves', 'seems', 'long', '...</td>\n",
              "    </tr>\n",
              "    <tr>\n",
              "      <th>3</th>\n",
              "      <td>11</td>\n",
              "      <td>2</td>\n",
              "      <td>0</td>\n",
              "      <td>True</td>\n",
              "      <td>['bought', 'alaska', 'cruise', 'worked', 'work...</td>\n",
              "    </tr>\n",
              "    <tr>\n",
              "      <th>4</th>\n",
              "      <td>3</td>\n",
              "      <td>9</td>\n",
              "      <td>0</td>\n",
              "      <td>True</td>\n",
              "      <td>['definitely', 'first', 'rain', 'stayed', 'sec...</td>\n",
              "    </tr>\n",
              "  </tbody>\n",
              "</table>\n",
              "</div>\n",
              "    <div class=\"colab-df-buttons\">\n",
              "\n",
              "  <div class=\"colab-df-container\">\n",
              "    <button class=\"colab-df-convert\" onclick=\"convertToInteractive('df-1b493e90-972a-402b-a70d-4e0bcc864aef')\"\n",
              "            title=\"Convert this dataframe to an interactive table.\"\n",
              "            style=\"display:none;\">\n",
              "\n",
              "  <svg xmlns=\"http://www.w3.org/2000/svg\" height=\"24px\" viewBox=\"0 -960 960 960\">\n",
              "    <path d=\"M120-120v-720h720v720H120Zm60-500h600v-160H180v160Zm220 220h160v-160H400v160Zm0 220h160v-160H400v160ZM180-400h160v-160H180v160Zm440 0h160v-160H620v160ZM180-180h160v-160H180v160Zm440 0h160v-160H620v160Z\"/>\n",
              "  </svg>\n",
              "    </button>\n",
              "\n",
              "  <style>\n",
              "    .colab-df-container {\n",
              "      display:flex;\n",
              "      gap: 12px;\n",
              "    }\n",
              "\n",
              "    .colab-df-convert {\n",
              "      background-color: #E8F0FE;\n",
              "      border: none;\n",
              "      border-radius: 50%;\n",
              "      cursor: pointer;\n",
              "      display: none;\n",
              "      fill: #1967D2;\n",
              "      height: 32px;\n",
              "      padding: 0 0 0 0;\n",
              "      width: 32px;\n",
              "    }\n",
              "\n",
              "    .colab-df-convert:hover {\n",
              "      background-color: #E2EBFA;\n",
              "      box-shadow: 0px 1px 2px rgba(60, 64, 67, 0.3), 0px 1px 3px 1px rgba(60, 64, 67, 0.15);\n",
              "      fill: #174EA6;\n",
              "    }\n",
              "\n",
              "    .colab-df-buttons div {\n",
              "      margin-bottom: 4px;\n",
              "    }\n",
              "\n",
              "    [theme=dark] .colab-df-convert {\n",
              "      background-color: #3B4455;\n",
              "      fill: #D2E3FC;\n",
              "    }\n",
              "\n",
              "    [theme=dark] .colab-df-convert:hover {\n",
              "      background-color: #434B5C;\n",
              "      box-shadow: 0px 1px 3px 1px rgba(0, 0, 0, 0.15);\n",
              "      filter: drop-shadow(0px 1px 2px rgba(0, 0, 0, 0.3));\n",
              "      fill: #FFFFFF;\n",
              "    }\n",
              "  </style>\n",
              "\n",
              "    <script>\n",
              "      const buttonEl =\n",
              "        document.querySelector('#df-1b493e90-972a-402b-a70d-4e0bcc864aef button.colab-df-convert');\n",
              "      buttonEl.style.display =\n",
              "        google.colab.kernel.accessAllowed ? 'block' : 'none';\n",
              "\n",
              "      async function convertToInteractive(key) {\n",
              "        const element = document.querySelector('#df-1b493e90-972a-402b-a70d-4e0bcc864aef');\n",
              "        const dataTable =\n",
              "          await google.colab.kernel.invokeFunction('convertToInteractive',\n",
              "                                                    [key], {});\n",
              "        if (!dataTable) return;\n",
              "\n",
              "        const docLinkHtml = 'Like what you see? Visit the ' +\n",
              "          '<a target=\"_blank\" href=https://colab.research.google.com/notebooks/data_table.ipynb>data table notebook</a>'\n",
              "          + ' to learn more about interactive tables.';\n",
              "        element.innerHTML = '';\n",
              "        dataTable['output_type'] = 'display_data';\n",
              "        await google.colab.output.renderOutput(dataTable, element);\n",
              "        const docLink = document.createElement('div');\n",
              "        docLink.innerHTML = docLinkHtml;\n",
              "        element.appendChild(docLink);\n",
              "      }\n",
              "    </script>\n",
              "  </div>\n",
              "\n",
              "\n",
              "<div id=\"df-ba382356-e492-41f4-828c-281f8dad45c5\">\n",
              "  <button class=\"colab-df-quickchart\" onclick=\"quickchart('df-ba382356-e492-41f4-828c-281f8dad45c5')\"\n",
              "            title=\"Suggest charts\"\n",
              "            style=\"display:none;\">\n",
              "\n",
              "<svg xmlns=\"http://www.w3.org/2000/svg\" height=\"24px\"viewBox=\"0 0 24 24\"\n",
              "     width=\"24px\">\n",
              "    <g>\n",
              "        <path d=\"M19 3H5c-1.1 0-2 .9-2 2v14c0 1.1.9 2 2 2h14c1.1 0 2-.9 2-2V5c0-1.1-.9-2-2-2zM9 17H7v-7h2v7zm4 0h-2V7h2v10zm4 0h-2v-4h2v4z\"/>\n",
              "    </g>\n",
              "</svg>\n",
              "  </button>\n",
              "\n",
              "<style>\n",
              "  .colab-df-quickchart {\n",
              "      --bg-color: #E8F0FE;\n",
              "      --fill-color: #1967D2;\n",
              "      --hover-bg-color: #E2EBFA;\n",
              "      --hover-fill-color: #174EA6;\n",
              "      --disabled-fill-color: #AAA;\n",
              "      --disabled-bg-color: #DDD;\n",
              "  }\n",
              "\n",
              "  [theme=dark] .colab-df-quickchart {\n",
              "      --bg-color: #3B4455;\n",
              "      --fill-color: #D2E3FC;\n",
              "      --hover-bg-color: #434B5C;\n",
              "      --hover-fill-color: #FFFFFF;\n",
              "      --disabled-bg-color: #3B4455;\n",
              "      --disabled-fill-color: #666;\n",
              "  }\n",
              "\n",
              "  .colab-df-quickchart {\n",
              "    background-color: var(--bg-color);\n",
              "    border: none;\n",
              "    border-radius: 50%;\n",
              "    cursor: pointer;\n",
              "    display: none;\n",
              "    fill: var(--fill-color);\n",
              "    height: 32px;\n",
              "    padding: 0;\n",
              "    width: 32px;\n",
              "  }\n",
              "\n",
              "  .colab-df-quickchart:hover {\n",
              "    background-color: var(--hover-bg-color);\n",
              "    box-shadow: 0 1px 2px rgba(60, 64, 67, 0.3), 0 1px 3px 1px rgba(60, 64, 67, 0.15);\n",
              "    fill: var(--button-hover-fill-color);\n",
              "  }\n",
              "\n",
              "  .colab-df-quickchart-complete:disabled,\n",
              "  .colab-df-quickchart-complete:disabled:hover {\n",
              "    background-color: var(--disabled-bg-color);\n",
              "    fill: var(--disabled-fill-color);\n",
              "    box-shadow: none;\n",
              "  }\n",
              "\n",
              "  .colab-df-spinner {\n",
              "    border: 2px solid var(--fill-color);\n",
              "    border-color: transparent;\n",
              "    border-bottom-color: var(--fill-color);\n",
              "    animation:\n",
              "      spin 1s steps(1) infinite;\n",
              "  }\n",
              "\n",
              "  @keyframes spin {\n",
              "    0% {\n",
              "      border-color: transparent;\n",
              "      border-bottom-color: var(--fill-color);\n",
              "      border-left-color: var(--fill-color);\n",
              "    }\n",
              "    20% {\n",
              "      border-color: transparent;\n",
              "      border-left-color: var(--fill-color);\n",
              "      border-top-color: var(--fill-color);\n",
              "    }\n",
              "    30% {\n",
              "      border-color: transparent;\n",
              "      border-left-color: var(--fill-color);\n",
              "      border-top-color: var(--fill-color);\n",
              "      border-right-color: var(--fill-color);\n",
              "    }\n",
              "    40% {\n",
              "      border-color: transparent;\n",
              "      border-right-color: var(--fill-color);\n",
              "      border-top-color: var(--fill-color);\n",
              "    }\n",
              "    60% {\n",
              "      border-color: transparent;\n",
              "      border-right-color: var(--fill-color);\n",
              "    }\n",
              "    80% {\n",
              "      border-color: transparent;\n",
              "      border-right-color: var(--fill-color);\n",
              "      border-bottom-color: var(--fill-color);\n",
              "    }\n",
              "    90% {\n",
              "      border-color: transparent;\n",
              "      border-bottom-color: var(--fill-color);\n",
              "    }\n",
              "  }\n",
              "</style>\n",
              "\n",
              "  <script>\n",
              "    async function quickchart(key) {\n",
              "      const quickchartButtonEl =\n",
              "        document.querySelector('#' + key + ' button');\n",
              "      quickchartButtonEl.disabled = true;  // To prevent multiple clicks.\n",
              "      quickchartButtonEl.classList.add('colab-df-spinner');\n",
              "      try {\n",
              "        const charts = await google.colab.kernel.invokeFunction(\n",
              "            'suggestCharts', [key], {});\n",
              "      } catch (error) {\n",
              "        console.error('Error during call to suggestCharts:', error);\n",
              "      }\n",
              "      quickchartButtonEl.classList.remove('colab-df-spinner');\n",
              "      quickchartButtonEl.classList.add('colab-df-quickchart-complete');\n",
              "    }\n",
              "    (() => {\n",
              "      let quickchartButtonEl =\n",
              "        document.querySelector('#df-ba382356-e492-41f4-828c-281f8dad45c5 button');\n",
              "      quickchartButtonEl.style.display =\n",
              "        google.colab.kernel.accessAllowed ? 'block' : 'none';\n",
              "    })();\n",
              "  </script>\n",
              "</div>\n",
              "    </div>\n",
              "  </div>\n"
            ],
            "application/vnd.google.colaboratory.intrinsic+json": {
              "type": "dataframe",
              "variable_name": "df",
              "summary": "{\n  \"name\": \"df\",\n  \"rows\": 2294,\n  \"fields\": [\n    {\n      \"column\": \"stopwords\",\n      \"properties\": {\n        \"dtype\": \"number\",\n        \"std\": 24,\n        \"min\": 0,\n        \"max\": 360,\n        \"num_unique_values\": 112,\n        \"samples\": [\n          48,\n          68,\n          3\n        ],\n        \"semantic_type\": \"\",\n        \"description\": \"\"\n      }\n    },\n    {\n      \"column\": \"punctuation\",\n      \"properties\": {\n        \"dtype\": \"number\",\n        \"std\": 9,\n        \"min\": 0,\n        \"max\": 228,\n        \"num_unique_values\": 56,\n        \"samples\": [\n          3,\n          5,\n          40\n        ],\n        \"semantic_type\": \"\",\n        \"description\": \"\"\n      }\n    },\n    {\n      \"column\": \"hastags\",\n      \"properties\": {\n        \"dtype\": \"number\",\n        \"std\": 0,\n        \"min\": 0,\n        \"max\": 2,\n        \"num_unique_values\": 2,\n        \"samples\": [\n          2,\n          0\n        ],\n        \"semantic_type\": \"\",\n        \"description\": \"\"\n      }\n    },\n    {\n      \"column\": \"is_english\",\n      \"properties\": {\n        \"dtype\": \"boolean\",\n        \"num_unique_values\": 1,\n        \"samples\": [\n          true\n        ],\n        \"semantic_type\": \"\",\n        \"description\": \"\"\n      }\n    },\n    {\n      \"column\": \"review\",\n      \"properties\": {\n        \"dtype\": \"string\",\n        \"num_unique_values\": 1995,\n        \"samples\": [\n          \"['love', 'raincoat', 'love', 'fabric', 'love', 'length', 'coat', 'love', 'color', 'plain', 'love']\"\n        ],\n        \"semantic_type\": \"\",\n        \"description\": \"\"\n      }\n    }\n  ]\n}"
            }
          },
          "metadata": {},
          "execution_count": 5
        }
      ]
    },
    {
      "cell_type": "markdown",
      "source": [
        "Two metrics, such as polarity and subjectivity, will be taken into account in this research.For sentiment analysis tasks like opinion mining, customer feedback analysis, and social media sentiment analysis, polarity and subjectivity scores can offer insights about the general sentiment and tone of a piece of text."
      ],
      "metadata": {
        "id": "x1-AFbU1HWX8"
      }
    },
    {
      "cell_type": "code",
      "source": [
        "#calculate the number of word\n",
        "df['word_count'] = df['review'].apply(lambda x: len(str(x).split(\" \")))\n",
        "df[['review','word_count']].head()"
      ],
      "metadata": {
        "id": "6Unn7oPt9XnR"
      },
      "execution_count": null,
      "outputs": []
    },
    {
      "cell_type": "code",
      "source": [
        "from textblob import TextBlob\n",
        "\n",
        "df['review']= df['review'].astype(str)\n",
        "\n",
        "pol = lambda x: TextBlob(x).sentiment.polarity\n",
        "sub = lambda x: TextBlob(x).sentiment.subjectivity\n",
        "\n",
        "\n",
        "df['polarity'] = df['review'].apply(pol)\n",
        "df['subjectivity'] = df['review'].apply(sub)\n",
        "df.head()"
      ],
      "metadata": {
        "id": "ttzZI-1XFRjP"
      },
      "execution_count": null,
      "outputs": []
    },
    {
      "cell_type": "markdown",
      "source": [
        "We will identify if the review is good, neutral or bad reviews using the polarity score"
      ],
      "metadata": {
        "id": "XPwxexjxaAm5"
      }
    },
    {
      "cell_type": "code",
      "source": [
        "from nltk.corpus import wordnet\n",
        "# Additional positive and negative keywords\n",
        "positive_keywords = ['excellent', 'great', 'amazing', 'nice','value','pretty','cheaper','waterproof', 'durable', 'lightweight', 'breathable', 'functional', 'stylish', 'comfortable','fantastic', 'wonderful', 'awesome', 'outstanding', 'superb', 'perfect','love','ideal','useful','valuable',\"Windproof\",\n",
        "    \"Breathable\",\"Quick-drying\",\"Versatile\",\"Fashionable\",\"Lightweight\",'elastic''long',\"Compact\",\"Reliable\",\"Sturdy\",\"High-quality\",\"Functional\",\"Convenient\",\"Well-made\",\"Stylish\",    \"Love\", \"Great\", \"Nice\", \"Perfect\", \"Lightweight\",\n",
        "    \"Comfortable\", \"Ideal fit\", \"Fantastic choice\", \"Quality\", \"Good value\", \"True size\", \"Fits perfectly\", \"Cute\",\"Comfy\", \"Excellent\", \"Happy\", \"Loved\", \"Fits well\", \"Comfy\", \"Excellent\", \"Happy\", \"Loved\", \"Fits well\", \"Comfy\", \"Excellent\", \"Happy\", \"Loved\", \"Fits well\", \"Wonderful\", \"Durable\",\n",
        "                     \"Great fit\", \"Comfortable\", \"Lightweight\", \"Quality\", \"Versatile\",\n",
        "    \"Warm\", \"Love\", \"Perfect\", \"Awesome\", \"Beautiful\", \"Excellent service\",\n",
        "    \"Worth buying\", \"Well made\", \"Nice\", \"Loved\", \"Bigger than expected\",\n",
        "    \"Fits well\", \"About backcountry\", \"Worth the price\", \"Good gift\",\"Fits well\", \"Just like picture\", \"Waterproof\", \"Repels water\", \"Versatile\",\n",
        "    \"Fits tight bust\", \"Present\", \"Material started fray\", \"Repels water\"]\n",
        "\n",
        "negative_keywords = ['poor', 'bad', 'terrible', 'bother','weird','long','','disappointing', 'awful', 'horrible', 'disgusting', 'atrocious', 'abysmal','leaks', 'flimsy', 'uncomfortable', 'heavy', 'bulky', 'poorly made', 'not waterproof',\"Leaks\",\"Tears easily\",\n",
        "    \"Heavy\",\"Bulky\",\"Uncomfortable\",\"Poorly constructed\",\"Not waterproof\",\"Impractical\",\"Limited mobility\",\"Lacks ventilation\",\"Cheaply made\",\"Not durable\",\"Ineffective\",\"Difficult to pack\",\"Unattractive design\",\"Short sleeves\", \"Overheated\", \"Weird\", \"Not described\",\n",
        "    \"Runs small\", \"Thin\", \"Not warm\", \"Noisy\", \"Missing liner\", \"Defective\", \"Crunchy plastic texture\", \"Ran big\",\"Awkward fit\", \"Not pictured\", \"Not waterproof\",\"Faulty zipper\", \"Not good for cold weather\", \"Received used product\", \"Odd fit\", \"Not waterproof\",\n",
        "                     \"Overpriced\", \"Low water resistance\", \"Not great\", \"Thin\", \"Flimsy\",\n",
        "    \"Small sizes\", \"Not really cold weather\", \"Cheap\", \"Misleading\",\n",
        "    \"Not worth the price\", \"Not as advertised\", \"Low quality\", \"Terrible\",\n",
        "    \"False advertisement\", \"Poor quality\", \"Not new\", \"It doesn't look like a North Face jacket\",\n",
        "    \"Simple\", \"Worthy of price\", \"Not worth the money\",\"Returned defective product\", \"Defective product\", \"Not water resistant\",\n",
        "    \"Not worth the money\", \"Runs small\", \"Low quality\", \"Scam\", \"Not as advertised\",\n",
        "    \"Low quality\", \"Warning\", \"Damage\", \"Cheap product\", \"Poor quality\", \"Cheap product\",\n",
        "    \"Wors gd lightweight\", \"Scam alert\", \"Runs small\", \"Wrong shipment\", \"Cheap product\",\n",
        "    \"Plastic zipper\"]\n",
        "\n",
        "# Function to get synonyms of a word using WordNet\n",
        "def get_synonyms(word):\n",
        "    synonyms = set()\n",
        "    for syn in wordnet.synsets(word):\n",
        "        for lemma in syn.lemmas():\n",
        "            synonyms.add(lemma.name().lower())\n",
        "    return synonyms\n",
        "\n",
        "# Add synonyms of existing positive and negative keywords to the lists\n",
        "for keyword in list(positive_keywords):\n",
        "    positive_keywords.extend(get_synonyms(keyword))\n",
        "for keyword in list(negative_keywords):\n",
        "    negative_keywords.extend(get_synonyms(keyword))\n",
        "\n",
        "# Convert lists to sets to remove duplicates\n",
        "positive_keywords = list(set(positive_keywords))\n",
        "negative_keywords = list(set(negative_keywords))"
      ],
      "metadata": {
        "id": "3LIQfePIjhoF"
      },
      "execution_count": null,
      "outputs": []
    },
    {
      "cell_type": "code",
      "source": [
        "def classify_review(text):\n",
        "    # Use TextBlob to calculate sentiment polarity\n",
        "    blob = TextBlob(text)\n",
        "    polarity = blob.sentiment.polarity\n",
        "\n",
        "    # Define threshold for positive sentiment\n",
        "    threshold = 0.1\n",
        "\n",
        "    # Classify review as \"good\" if polarity is above threshold, otherwise \"not good\"\n",
        "    if polarity > threshold:\n",
        "        return \"1\"\n",
        "    else:\n",
        "        return \"0\""
      ],
      "metadata": {
        "id": "5Ejs2V8omHCQ"
      },
      "execution_count": null,
      "outputs": []
    },
    {
      "cell_type": "code",
      "source": [
        "df['review'][1]"
      ],
      "metadata": {
        "id": "6Y9Ub0S4m4TL"
      },
      "execution_count": null,
      "outputs": []
    },
    {
      "cell_type": "code",
      "source": [
        "# Example usage:\n",
        "review = df['review'][1]\n",
        "classification = classify_review(review)\n",
        "print(\"Review classification:\", classification)"
      ],
      "metadata": {
        "id": "JXGDItutmZDZ"
      },
      "execution_count": null,
      "outputs": []
    },
    {
      "cell_type": "code",
      "source": [
        "# Apply classify_review function to the 'review' column in the DataFrame\n",
        "df['review_classification'] = df['review'].apply(classify_review)\n"
      ],
      "metadata": {
        "id": "2xXPbBFAnTjA"
      },
      "execution_count": null,
      "outputs": []
    },
    {
      "cell_type": "code",
      "source": [
        "df.head()"
      ],
      "metadata": {
        "id": "4slSffxQnIHr"
      },
      "execution_count": null,
      "outputs": []
    },
    {
      "cell_type": "code",
      "source": [
        "#Round the polarity & subjectivity score\n",
        "df['polarity'] = df['polarity'].round(2)\n",
        "df['subjectivity'] = df['subjectivity'].round(2)\n",
        "df.sample(5)"
      ],
      "metadata": {
        "id": "xKdnDgubKMTb"
      },
      "execution_count": null,
      "outputs": []
    },
    {
      "cell_type": "markdown",
      "source": [
        "Below, we will visualize sentiment analysis results, where each point represents a data point with polarity and subjectivity values, and the index labels provide additional information about each point."
      ],
      "metadata": {
        "id": "dzgejXHhMVMI"
      }
    },
    {
      "cell_type": "code",
      "source": [
        "pip install afinn"
      ],
      "metadata": {
        "id": "xFBZWDEdw9IK"
      },
      "execution_count": null,
      "outputs": []
    },
    {
      "cell_type": "code",
      "source": [
        "import pandas as pd\n",
        "from afinn import Afinn\n",
        "\n",
        "# Initialize AFINN sentiment analyzer\n",
        "afinn = Afinn()\n",
        "\n",
        "# Function to calculate sentiment score for a given text\n",
        "def calculate_sentiment(text):\n",
        "    return afinn.score(text)\n",
        "\n",
        "# Apply the sentiment analysis function to each review in the DataFrame\n",
        "df['SentimentScore'] = df['review'].apply(calculate_sentiment)\n",
        "\n",
        "# Classify sentiment based on score (positive if score > 0, negative if score < 0)\n",
        "def classify_sentiment(score):\n",
        "    if score > 0:\n",
        "        return '1'\n",
        "    else:\n",
        "        return '0'\n",
        "df['Sentiment'] = df['SentimentScore'].apply(classify_sentiment)\n"
      ],
      "metadata": {
        "id": "CPHfnAPfKrG7"
      },
      "execution_count": null,
      "outputs": []
    },
    {
      "cell_type": "code",
      "source": [
        "df.head()"
      ],
      "metadata": {
        "id": "pp6-a2y5xPTs"
      },
      "execution_count": null,
      "outputs": []
    },
    {
      "cell_type": "markdown",
      "source": [
        "**Distribution of Review**"
      ],
      "metadata": {
        "id": "7q1EbUMZc2NX"
      }
    },
    {
      "cell_type": "code",
      "source": [
        "a = df.groupby(['Sentiment'])['review'].count()\n",
        "a = a.reset_index()\n",
        "a = a.rename(columns={'Review': 'number of customer'})\n",
        "fig, ax = plt.subplots(figsize=(4, 5))\n",
        "\n",
        "sns.barplot(x='Sentiment', y='review', data=a, hue='Sentiment')"
      ],
      "metadata": {
        "id": "P0Kj4_xnVJPU"
      },
      "execution_count": null,
      "outputs": []
    },
    {
      "cell_type": "markdown",
      "source": [
        "It can be seen that the class is unbalanced and we will handle it before modeling"
      ],
      "metadata": {
        "id": "fHkaz204eNjM"
      }
    },
    {
      "cell_type": "markdown",
      "source": [
        "1. Polarity\n",
        "\n",
        "The text's sentiment orientation is measured by polarity, which indicates whether the attitude is positive, negative, or neutral. Usually, it is shown as a number scale, where:\n",
        "Positive polarity indicates a positive sentiment.\n",
        "Negative polarity indicates a negative sentiment.\n",
        "Neutral polarity indicates a lack of sentiment or a neutral sentiment. Polarity range from -1 to 1."
      ],
      "metadata": {
        "id": "FqS-snf9IUY6"
      }
    },
    {
      "cell_type": "code",
      "source": [
        "#Examining the polarity\n",
        "num_bins = 50\n",
        "plt.figure(figsize=(6,6))\n",
        "n, bins, patches = plt.hist(df.polarity, num_bins, facecolor='blue', alpha=0.5)\n",
        "plt.xlabel('Polarity')\n",
        "plt.ylabel('Number of Reviews')\n",
        "plt.title('Histogram of Polarity Score')\n",
        "plt.show()\n"
      ],
      "metadata": {
        "id": "68otwLWmeZoD"
      },
      "execution_count": null,
      "outputs": []
    },
    {
      "cell_type": "code",
      "source": [
        "plt.figure(figsize=(5,5))\n",
        "sns.boxenplot(x='Sentiment', y='polarity', data=df,hue='Sentiment')\n",
        "plt.show();"
      ],
      "metadata": {
        "id": "OEvaTp9vhJ0e"
      },
      "execution_count": null,
      "outputs": []
    },
    {
      "cell_type": "markdown",
      "source": [
        "As this box plot illustrates,\n",
        "- Some positive reviews have low polarity\n",
        "- most of negative reviews have low polarity\n",
        "\n"
      ],
      "metadata": {
        "id": "g2gzsgl7qVUZ"
      }
    },
    {
      "cell_type": "code",
      "source": [
        "df.loc[(df.polarity == 1 & (df.Sentiment == 0))].review.head(10).tolist()"
      ],
      "metadata": {
        "id": "gOWc4XAuqC7d"
      },
      "execution_count": null,
      "outputs": []
    },
    {
      "cell_type": "code",
      "source": [
        "plt.figure(figsize=(12,6))\n",
        "sns.boxenplot(x='punctuation', y='polarity', hue='Sentiment', data=df)\n",
        "plt.xlabel('Punctuation', fontsize=13)\n",
        "plt.ylabel('Polarity Score', fontsize=13)\n",
        "plt.title('Punctuationr vs Polarity', fontsize=15)\n",
        "plt.show()"
      ],
      "metadata": {
        "id": "P4gG7K-H3t8N"
      },
      "execution_count": null,
      "outputs": []
    },
    {
      "cell_type": "markdown",
      "source": [
        "Interpretation:\n",
        "\n",
        "Median: The line within each box represents the median sentiment polarity score for reviews in that category of punctuation usage. A higher median indicates a more positive sentiment, while a lower median indicates a more negative sentiment.\n",
        "\n",
        "Box Height: The height of the box represents the interquartile range (IQR), which indicates the spread of sentiment polarity scores within each category. A taller box suggests a wider range of sentiment expressions.\n",
        "\n",
        "Whiskers: The whiskers extending from the boxes show the range of sentiment polarity scores within each category, excluding outliers. Outliers, if present, are usually represented as individual data points beyond the whiskers.\n",
        "\n",
        "Outliers: Individual data points beyond the whiskers represent outlier reviews that have extreme sentiment polarity scores compared to the rest of the data within that category of punctuation usage. These outliers could be particularly positive or negative reviews."
      ],
      "metadata": {
        "id": "jzRv5jZG6jea"
      }
    },
    {
      "cell_type": "code",
      "source": [
        "df_sub= df.loc[df.word_count //50 * 50]"
      ],
      "metadata": {
        "id": "gFGBJV7U7iUK"
      },
      "execution_count": null,
      "outputs": []
    },
    {
      "cell_type": "code",
      "source": [
        "plt.figure(figsize=(6,5))\n",
        "sns.barplot(x='word_count', y='polarity', hue='Sentiment', data=df_sub)\n",
        "plt.xlabel('Number of Words', fontsize=13)\n",
        "plt.ylabel('Polarity Score', fontsize=13)\n",
        "plt.title('Number of Words vs Polarity', fontsize=15)\n",
        "plt.show()"
      ],
      "metadata": {
        "id": "95AkuYpoC59z"
      },
      "execution_count": null,
      "outputs": []
    },
    {
      "cell_type": "code",
      "source": [
        "plt.figure(figsize=(12,6))\n",
        "sns.boxenplot(x='word_count', y='polarity', hue='Sentiment',  linewidth=0.5, data=df)\n",
        "plt.xlabel('Number of Words', fontsize=10)\n",
        "plt.ylabel('Polarity Score', fontsize=10)\n",
        "plt.title('Number of Words vs Polarity', fontsize=15)\n",
        "plt.xlim([20, 100])\n",
        "plt.xticks(rotation = 45)\n",
        "plt.xticks(fontsize=8)\n",
        "plt.show()\n"
      ],
      "metadata": {
        "id": "JfmhowihDj5o"
      },
      "execution_count": null,
      "outputs": []
    },
    {
      "cell_type": "markdown",
      "source": [
        "It can be seen that positive review have more words compare to bad review"
      ],
      "metadata": {
        "id": "fhBY8LJnJjia"
      }
    },
    {
      "cell_type": "markdown",
      "source": [
        "2. Subjectivity\n",
        "\n",
        "Subjectivity measures the degree to which the text expresses opinions, feelings, or beliefs, as opposed to factual information.The subjectivity is a float within the range [0.0, 1.0] where 0.0 is very objective and 1.0 is very subjective."
      ],
      "metadata": {
        "id": "nNqtFOFEJu_J"
      }
    },
    {
      "cell_type": "code",
      "source": [
        "\n",
        "# Density Plot and Histogram of subjectivity\n",
        "plt.figure(figsize=(10,5))\n",
        "sns.distplot(df['subjectivity'], hist=True, kde=True,\n",
        "             bins=int(30), color = 'darkblue',\n",
        "             hist_kws={'edgecolor':'black'},\n",
        "             kde_kws={'linewidth': 4})\n",
        "plt.xlim([-0.001,1.001])\n",
        "plt.xlabel('Subjectivity', fontsize=13)\n",
        "plt.ylabel('Frequency', fontsize=13)\n",
        "plt.title('Distribution of Subjectivity Score', fontsize=15)"
      ],
      "metadata": {
        "id": "srSk7_JrJsBE"
      },
      "execution_count": null,
      "outputs": []
    },
    {
      "cell_type": "code",
      "source": [
        "\n",
        "#plt.figure(figsize=(10,6))\n",
        "sns.relplot(x=\"subjectivity\", y=\"polarity\", hue=\"Sentiment\", alpha=1 , palette=\"muted\",\n",
        "            height=6, aspect= 1.5, data=df)\n",
        "plt.xlabel('Subjectivity', fontsize=13)\n",
        "plt.ylabel('Polarity', fontsize=13)\n",
        "plt.title('Subjectivity vs Polarity', fontsize=15)\n",
        "plt.show();"
      ],
      "metadata": {
        "id": "keGdB3XCKS9M"
      },
      "execution_count": null,
      "outputs": []
    },
    {
      "cell_type": "code",
      "source": [
        "plt.figure(figsize=(10,6))\n",
        "sns.boxenplot(x='Sentiment', y='subjectivity', data=df, hue='Sentiment')\n",
        "plt.show()"
      ],
      "metadata": {
        "id": "kZnZmD5RMAEX"
      },
      "execution_count": null,
      "outputs": []
    },
    {
      "cell_type": "markdown",
      "source": [
        "Customer who gave positive review is more subjective than the one who give bad reviews"
      ],
      "metadata": {
        "id": "ln3CfrpvyjzV"
      }
    },
    {
      "cell_type": "code",
      "source": [
        "plt.figure(figsize=(12,6))\n",
        "df_sub= df.loc[df.word_count <=50]\n",
        "sns.boxenplot(x='word_count', y='subjectivity', hue='Sentiment', data=df_sub, palette = 'Paired')\n",
        "plt.xlabel('Number of Words', fontsize=13)\n",
        "plt.ylabel('subjectivity Score', fontsize=13)\n",
        "plt.title('Number of Words vs subjectivity', fontsize=13)\n",
        "plt.show()"
      ],
      "metadata": {
        "id": "GDt574fnMTuY"
      },
      "execution_count": null,
      "outputs": []
    },
    {
      "cell_type": "markdown",
      "source": [
        "It can be observed that customer who gave good review is more subjective"
      ],
      "metadata": {
        "id": "xEs6gonOOsY9"
      }
    },
    {
      "cell_type": "markdown",
      "source": [
        "Top 10 reviews that have highest polarity ( positive sentiment), 'good review' , and most subjective review"
      ],
      "metadata": {
        "id": "hSsBe3dwRdH2"
      }
    },
    {
      "cell_type": "code",
      "source": [
        "df.loc[(df.polarity <0) & (df.subjectivity ==1) & (df[\"Sentiment\"] == '0') , 'review'].head(10).tolist()"
      ],
      "metadata": {
        "id": "c6jRju9yQL_B"
      },
      "execution_count": null,
      "outputs": []
    },
    {
      "cell_type": "code",
      "source": [
        "# Top 10 reviews that have low polarity (negative sentiment) but 'good review' value is 1, and subjective (opinion):\n",
        "df.loc[(df.polarity <=0.25 ) & (df.subjectivity >=0.8) & (df[\"Sentiment\"] == '1')  , \"review\"].head(10).tolist()"
      ],
      "metadata": {
        "id": "snVGq_IeR8yk"
      },
      "execution_count": null,
      "outputs": []
    },
    {
      "cell_type": "code",
      "source": [
        "# Top 10 reviews that have low polarity (negative sentiment) but 'good review' value is 1, and subjective (opinion):\n",
        "df.loc[(df.polarity <=0.25 ) & (df.subjectivity ==0) & (df[\"Sentiment\"] == '0')  , \"review\"].head(10).tolist()"
      ],
      "metadata": {
        "id": "yUrBd9USUm2B"
      },
      "execution_count": null,
      "outputs": []
    },
    {
      "cell_type": "code",
      "source": [
        "from collections import Counter\n",
        "\n",
        "# Initialize lists to store results\n",
        "top_words_positive = []\n",
        "top_words_negative = []\n",
        "\n",
        "# Print the first few entries of the 'review' column to verify its contents\n",
        "print(\"First few entries of the 'review' column:\")\n",
        "print(df['review'].head())\n",
        "\n",
        "# Function to calculate the top 10 most frequent words for a given sentiment class\n",
        "def top_10_frequent_words_for_sentiment(sentiment, tokenized_reviews):\n",
        "    # Filter the tokenized reviews by sentiment\n",
        "    filtered_reviews = [review for review, sent in zip(tokenized_reviews, df['Sentiment']) if sent == sentiment]\n",
        "\n",
        "    # Print the number of reviews for the current sentiment\n",
        "    print(\"Number of reviews for sentiment\", sentiment, \":\", len(filtered_reviews))\n",
        "\n",
        "    # Flatten the list of tokens\n",
        "    flattened_tokens = [token for sublist in filtered_reviews for token in sublist]\n",
        "\n",
        "    # Count the occurrences of each token\n",
        "    token_counts = Counter(flattened_tokens)\n",
        "\n",
        "    # Get the top 10 most frequent words\n",
        "    top_10_frequent_words = token_counts.most_common(10)\n",
        "\n",
        "    return top_10_frequent_words\n",
        "\n",
        "# Calculate the top 10 most frequent words for positive sentiment (sentiment 1)\n",
        "top_10_frequent_words_1 = top_10_frequent_words_for_sentiment('1', df['review'])\n",
        "for word, frequency in top_10_frequent_words_1:\n",
        "    top_words_positive.append((word, frequency))\n",
        "\n",
        "# Calculate the top 10 most frequent words for negative sentiment (sentiment 0)\n",
        "top_10_frequent_words_0 = top_10_frequent_words_for_sentiment('0', df['review'])\n",
        "for word, frequency in top_10_frequent_words_0:\n",
        "    top_words_negative.append((word, frequency))\n",
        "\n",
        "# Print or return the lists\n",
        "print(\"Top 10 most frequent words for positive sentiment:\")\n",
        "print(top_words_positive)\n",
        "print(\"\\nTop 10 most frequent words for negative sentiment:\")\n",
        "print(top_words_negative)\n"
      ],
      "metadata": {
        "id": "6wj0HEz40hTV"
      },
      "execution_count": null,
      "outputs": []
    },
    {
      "cell_type": "code",
      "source": [
        "#authorisasi\n",
        "from google.colab import drive\n",
        "drive.mount('/content/drive')"
      ],
      "metadata": {
        "id": "UIbwFpllYzTe"
      },
      "execution_count": null,
      "outputs": []
    },
    {
      "cell_type": "code",
      "source": [
        "#Save the data\n",
        "df.to_csv('/content/drive/MyDrive/amazon/review_fix.csv', index=False)"
      ],
      "metadata": {
        "id": "JG9AWWw6Y4Yo"
      },
      "execution_count": null,
      "outputs": []
    }
  ]
}